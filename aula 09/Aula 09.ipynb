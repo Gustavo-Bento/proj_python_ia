{
  "nbformat": 4,
  "nbformat_minor": 0,
  "metadata": {
    "colab": {
      "provenance": []
    },
    "kernelspec": {
      "name": "python3",
      "display_name": "Python 3"
    },
    "language_info": {
      "name": "python"
    }
  },
  "cells": [
    {
      "cell_type": "markdown",
      "source": [
        "Pip é o gerenciador de pacotes do python, responsavel pela instalação das bibliotecas usadas pela linguagem."
      ],
      "metadata": {
        "id": "Mv6czK1q59dk"
      }
    },
    {
      "cell_type": "code",
      "source": [
        "pip install nltk textblob"
      ],
      "metadata": {
        "colab": {
          "base_uri": "https://localhost:8080/"
        },
        "id": "8Re1SPiz4wIk",
        "outputId": "fbd74cb7-d877-4a10-f369-b6432915a28c"
      },
      "execution_count": 1,
      "outputs": [
        {
          "output_type": "stream",
          "name": "stdout",
          "text": [
            "Requirement already satisfied: nltk in /usr/local/lib/python3.10/dist-packages (3.8.1)\n",
            "Requirement already satisfied: textblob in /usr/local/lib/python3.10/dist-packages (0.17.1)\n",
            "Requirement already satisfied: click in /usr/local/lib/python3.10/dist-packages (from nltk) (8.1.7)\n",
            "Requirement already satisfied: joblib in /usr/local/lib/python3.10/dist-packages (from nltk) (1.4.2)\n",
            "Requirement already satisfied: regex>=2021.8.3 in /usr/local/lib/python3.10/dist-packages (from nltk) (2024.9.11)\n",
            "Requirement already satisfied: tqdm in /usr/local/lib/python3.10/dist-packages (from nltk) (4.66.5)\n"
          ]
        }
      ]
    },
    {
      "cell_type": "code",
      "source": [
        "import nltk\n",
        "from nltk.corpus import stopwords\n",
        "from nltk.tokenize import word_tokenize\n",
        "from textblob import TextBlob\n"
      ],
      "metadata": {
        "id": "_TXFL-s36gEW"
      },
      "execution_count": 3,
      "outputs": []
    },
    {
      "cell_type": "markdown",
      "source": [
        "Baixar os componentes NLTK necessários"
      ],
      "metadata": {
        "id": "Wmr9EjC393bH"
      }
    },
    {
      "cell_type": "code",
      "source": [
        "nltk.download('punkt')\n",
        "nltk.download('stopwords')"
      ],
      "metadata": {
        "colab": {
          "base_uri": "https://localhost:8080/"
        },
        "id": "qMuXiOG89_Fg",
        "outputId": "f9aa71b2-8d51-4f67-8c1a-df671c8267eb"
      },
      "execution_count": 4,
      "outputs": [
        {
          "output_type": "stream",
          "name": "stderr",
          "text": [
            "[nltk_data] Downloading package punkt to /root/nltk_data...\n",
            "[nltk_data]   Unzipping tokenizers/punkt.zip.\n",
            "[nltk_data] Downloading package stopwords to /root/nltk_data...\n",
            "[nltk_data]   Unzipping corpora/stopwords.zip.\n"
          ]
        },
        {
          "output_type": "execute_result",
          "data": {
            "text/plain": [
              "True"
            ]
          },
          "metadata": {},
          "execution_count": 4
        }
      ]
    },
    {
      "cell_type": "markdown",
      "source": [
        "Função de pré processamento de texto"
      ],
      "metadata": {
        "id": "RknpXY2l_z_q"
      }
    },
    {
      "cell_type": "code",
      "source": [
        "def preprocesso(texto):\n",
        "  #Tokenização\n",
        "  tokens = word_tokenize(texto.lower())\n",
        "\n",
        "  #Remover os espaços das frases\n",
        "  espacos = set(stopwords.words('english'))\n",
        "\n",
        "  #Filtrando os tokens\n",
        "  tokens_filtrados = [palavra for palavra in tokens if palavra.isalnum()\n",
        "    and palavra not in espacos]\n",
        "\n",
        "  #Retorno da função\n",
        "  return ' '.join(tokens_filtrados)"
      ],
      "metadata": {
        "id": "KMyMyMTi_4pX"
      },
      "execution_count": 13,
      "outputs": []
    },
    {
      "cell_type": "markdown",
      "source": [
        "Função para analise de sentimentos"
      ],
      "metadata": {
        "id": "N9IXUcfJG4vK"
      }
    },
    {
      "cell_type": "code",
      "source": [
        "def sentimentos(texto):\n",
        "\n",
        "  #Limpando o texto digitado\n",
        "  texto_limpo = preprocesso(texto)\n",
        "\n",
        "  #Analise de sentimento do texto\n",
        "  blob = TextBlob(texto_limpo)\n",
        "\n",
        "  #Aplicando a polaridade do sentimento\n",
        "  sentimento = blob.sentiment.polarity\n",
        "\n",
        "  #Retornando a pontuação\n",
        "  return sentimento\n"
      ],
      "metadata": {
        "id": "ww0G32k-HwPU"
      },
      "execution_count": 14,
      "outputs": []
    },
    {
      "cell_type": "markdown",
      "source": [
        "Lista de frases com sentimentos"
      ],
      "metadata": {
        "id": "540HlhwyKV1f"
      }
    },
    {
      "cell_type": "code",
      "source": [
        "frases = [\"I loved this app. The latest version has improved a lot!\",\n",
        "          \"This app crashed my phone. I hated it!\",\n",
        "          \"This app is crap, I won't download it anymore!\",\n",
        "          \"I don't know how to log out\",\n",
        "          \"The last version was much better. But it still meets my expectations.\",\n",
        "          \"I'm very happy with this app\",\n",
        "          \"It took a long time to update.\",\n",
        "          \"I really like this app. I always share it.\",\n",
        "          \"I have many doubts about this application. Very confusing\",\n",
        "          \"I'm new here, how do I update my photo?\"]"
      ],
      "metadata": {
        "id": "cM2IjUGaKY8D"
      },
      "execution_count": 15,
      "outputs": []
    },
    {
      "cell_type": "markdown",
      "source": [
        "Exibindo a frase e sua pontuação"
      ],
      "metadata": {
        "id": "OsVtxQXDNWXJ"
      }
    },
    {
      "cell_type": "code",
      "source": [
        "for comentario in frases:\n",
        "  nivel = sentimentos(comentario)\n",
        "  print(f\"Comentario: {comentario}\\nPontuação: {round(nivel,2)}\\n\")"
      ],
      "metadata": {
        "colab": {
          "base_uri": "https://localhost:8080/"
        },
        "id": "v_h4J7dyNbfV",
        "outputId": "7a5cb7a1-dcc8-45a2-fcb1-ff0a08654503"
      },
      "execution_count": 19,
      "outputs": [
        {
          "output_type": "stream",
          "name": "stdout",
          "text": [
            "Comentario: I loved this app. The latest version has improved a lot!\n",
            "Pontuação: 0.6\n",
            "\n",
            "Comentario: This app crashed my phone. I hated it!\n",
            "Pontuação: -0.9\n",
            "\n",
            "Comentario: This app is crap, I won't download it anymore!\n",
            "Pontuação: -0.8\n",
            "\n",
            "Comentario: I don't know how to log out\n",
            "Pontuação: 0.0\n",
            "\n",
            "Comentario: The last version was much better. But it still meets my expectations.\n",
            "Pontuação: 0.25\n",
            "\n",
            "Comentario: I'm very happy with this app\n",
            "Pontuação: 0.8\n",
            "\n",
            "Comentario: It took a long time to update.\n",
            "Pontuação: -0.05\n",
            "\n",
            "Comentario: I really like this app. I always share it.\n",
            "Pontuação: 0.2\n",
            "\n",
            "Comentario: I have many doubts about this application. Very confusing\n",
            "Pontuação: 0.1\n",
            "\n",
            "Comentario: I'm new here, how do I update my photo?\n",
            "Pontuação: 0.14\n",
            "\n"
          ]
        }
      ]
    }
  ]
}