{
 "cells": [
  {
   "cell_type": "code",
   "execution_count": 1,
   "metadata": {
    "id": "rjI4frZ_EKTI"
   },
   "outputs": [
    {
     "name": "stdout",
     "output_type": "stream",
     "text": [
      "Precisão: 100.00%\n",
      "O tipo de vinho é: Tinto\n",
      "55.00% de confiança\n"
     ]
    }
   ],
   "source": [
    "import pandas as pd\n",
    "from sklearn.model_selection import train_test_split\n",
    "from sklearn.ensemble import RandomForestClassifier\n",
    "from sklearn.metrics import accuracy_score\n",
    "\n",
    "# Ler arquivo csv pelo pandas\n",
    "def ler_csv(file_path):\n",
    "    return pd.read_csv(file_path)\n",
    "\n",
    "# Método de treinamento\n",
    "def treinar(df):\n",
    "    # Selecionando as colunas de entrada\n",
    "    x = df[['acidez', 'densidade', 'viscosidade', 'tonalidade']]\n",
    "    y = df['tipo_de_vinho']\n",
    "\n",
    "    # Dividindo os dados em conjuntos de treino e teste\n",
    "    x_train, x_test, y_train, y_test = train_test_split(x, y, test_size=0.2, random_state=42)\n",
    "    \n",
    "    # Usando RandomForest como exemplo\n",
    "    model = RandomForestClassifier()\n",
    "    model.fit(x_train, y_train)\n",
    "\n",
    "    # Avaliar modelo e sua precisão\n",
    "    y_pred = model.predict(x_test)\n",
    "    precisao = accuracy_score(y_test, y_pred)\n",
    "    print(f\"Precisão: {precisao * 100:.2f}%\")\n",
    "\n",
    "    return model\n",
    "\n",
    "# Prever o vinho\n",
    "def prever_vinho(model, acidez, densidade, viscosidade, tonalidade):\n",
    "    # Criar um DataFrame com a mesma estrutura usada no treinamento\n",
    "    entrada = pd.DataFrame({\n",
    "        'acidez': [acidez],\n",
    "        'densidade': [densidade],\n",
    "        'viscosidade': [viscosidade],\n",
    "        'tonalidade': [tonalidade]\n",
    "    })\n",
    "    predicao = model.predict(entrada)\n",
    "    probabilidade = model.predict_proba(entrada)\n",
    "\n",
    "    return predicao[0], max(probabilidade[0]) * 100\n",
    "\n",
    "# Método principal\n",
    "if __name__ == \"__main__\": \n",
    "    # Variável que armazena nome do arquivo csv\n",
    "    arquivo = \"./vinhos.csv\"  # Substitua pelo caminho absoluto do seu arquivo\n",
    "    df = ler_csv(arquivo)\n",
    "    model = treinar(df)\n",
    "\n",
    "    # Entrada de dados pelo usuário\n",
    "    acidez = 1\n",
    "    densidade = 0.75\n",
    "    viscosidade = 0.9\n",
    "    tonalidade = 0.63\n",
    "\n",
    "    vinho, certeza = prever_vinho(model, acidez, densidade, viscosidade, tonalidade)\n",
    "\n",
    "    print(f\"O tipo de vinho é: {vinho}\")\n",
    "    print(f\"{certeza:.2f}% de confiança\")\n"
   ]
  }
 ],
 "metadata": {
  "colab": {
   "provenance": []
  },
  "kernelspec": {
   "display_name": "Python 3",
   "name": "python3"
  },
  "language_info": {
   "codemirror_mode": {
    "name": "ipython",
    "version": 3
   },
   "file_extension": ".py",
   "mimetype": "text/x-python",
   "name": "python",
   "nbconvert_exporter": "python",
   "pygments_lexer": "ipython3",
   "version": "3.12.0"
  }
 },
 "nbformat": 4,
 "nbformat_minor": 0
}
