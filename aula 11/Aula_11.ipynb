{
  "nbformat": 4,
  "nbformat_minor": 0,
  "metadata": {
    "colab": {
      "provenance": []
    },
    "kernelspec": {
      "name": "python3",
      "display_name": "Python 3"
    },
    "language_info": {
      "name": "python"
    }
  },
  "cells": [
    {
      "cell_type": "markdown",
      "source": [
        "# Trabalhando com Mensageria"
      ],
      "metadata": {
        "id": "CBxH9GVL_X4r"
      }
    },
    {
      "cell_type": "markdown",
      "source": [
        "## Requisição de um API"
      ],
      "metadata": {
        "id": "G1ujmZAQ_gJ_"
      }
    },
    {
      "cell_type": "code",
      "source": [
        "pip install requests"
      ],
      "metadata": {
        "colab": {
          "base_uri": "https://localhost:8080/"
        },
        "id": "LTsgAlIT_rBd",
        "outputId": "67d97a21-08c1-427b-fc80-918b26756ae2"
      },
      "execution_count": 6,
      "outputs": [
        {
          "output_type": "stream",
          "name": "stdout",
          "text": [
            "Requirement already satisfied: requests in /usr/local/lib/python3.10/dist-packages (2.32.3)\n",
            "Requirement already satisfied: charset-normalizer<4,>=2 in /usr/local/lib/python3.10/dist-packages (from requests) (3.4.0)\n",
            "Requirement already satisfied: idna<4,>=2.5 in /usr/local/lib/python3.10/dist-packages (from requests) (3.10)\n",
            "Requirement already satisfied: urllib3<3,>=1.21.1 in /usr/local/lib/python3.10/dist-packages (from requests) (2.2.3)\n",
            "Requirement already satisfied: certifi>=2017.4.17 in /usr/local/lib/python3.10/dist-packages (from requests) (2024.8.30)\n"
          ]
        }
      ]
    },
    {
      "cell_type": "markdown",
      "source": [
        "Importando bibliotecas"
      ],
      "metadata": {
        "id": "KXVbp9wK_qk5"
      }
    },
    {
      "cell_type": "code",
      "source": [
        "import requests\n",
        "import json"
      ],
      "metadata": {
        "id": "ntQvW12RGAIV"
      },
      "execution_count": 7,
      "outputs": []
    },
    {
      "cell_type": "markdown",
      "source": [
        "Importando URL"
      ],
      "metadata": {
        "id": "dtWcsRjZGQ7G"
      }
    },
    {
      "cell_type": "code",
      "source": [
        "url = \"https://economia.awesomeapi.com.br/json/last/USD-BRL\""
      ],
      "metadata": {
        "id": "JGP-_FuIGC58"
      },
      "execution_count": 8,
      "outputs": []
    },
    {
      "cell_type": "markdown",
      "source": [
        "Cotação atual"
      ],
      "metadata": {
        "id": "Lt9-qTA3IduW"
      }
    },
    {
      "cell_type": "code",
      "source": [
        "cotacao = requests.get(url).content"
      ],
      "metadata": {
        "id": "ZK1MMshnIe5Y"
      },
      "execution_count": 9,
      "outputs": []
    },
    {
      "cell_type": "markdown",
      "source": [
        "Ler Arquivo JSON"
      ],
      "metadata": {
        "id": "aBbte3FiJMRL"
      }
    },
    {
      "cell_type": "code",
      "source": [
        "dic = json.loads(cotacao)"
      ],
      "metadata": {
        "id": "5TYqn8T3IhdJ"
      },
      "execution_count": 10,
      "outputs": []
    },
    {
      "cell_type": "markdown",
      "source": [
        "Visualizar o valor do Dolar"
      ],
      "metadata": {
        "id": "qwmpas7JJszK"
      }
    },
    {
      "cell_type": "code",
      "source": [
        "dic[\"USDBRL\"][\"bid\"]\n",
        "print(dic.values())"
      ],
      "metadata": {
        "colab": {
          "base_uri": "https://localhost:8080/"
        },
        "id": "9PG_SB5TJu1n",
        "outputId": "074e3b60-5dda-4b75-b978-3cc2e68a7ba0"
      },
      "execution_count": 19,
      "outputs": [
        {
          "output_type": "stream",
          "name": "stdout",
          "text": [
            "dict_values([{'code': 'USD', 'codein': 'BRL', 'name': 'Dólar Americano/Real Brasileiro', 'high': '5.8175', 'low': '5.7235', 'varBid': '0.0457', 'pctChange': '0.79', 'bid': '5.7942', 'ask': '5.7952', 'timestamp': '1731528426', 'create_date': '2024-11-13 17:07:06'}])\n"
          ]
        }
      ]
    },
    {
      "cell_type": "code",
      "source": [],
      "metadata": {
        "id": "ZxJMxjGFJx48"
      },
      "execution_count": null,
      "outputs": []
    },
    {
      "cell_type": "markdown",
      "source": [
        "# Exercício\n",
        "Crie uma lista em reais com os valores: 1, 2, 5, 10, 20, 50, 100 e 200. Faça a conversão de reais para dolar atual. Mostre em tela as duas comparações."
      ],
      "metadata": {
        "id": "VHaNHEPhLb1y"
      }
    },
    {
      "cell_type": "code",
      "source": [
        "import requests\n",
        "import json\n",
        "\n",
        "reais = [1,2,5,10,20,50,100,200]\n",
        "cotacao = requests.get(url).content\n",
        "dic = json.loads(cotacao)\n",
        "dolar = [round(x/float(dic[\"USDBRL\"][\"bid\"]),2) for x in reais]\n",
        "\n",
        "print(\"{:<4}{:<6}{:<6}\".format(\"Nº\",\"BRL\",\"USD\"))\n",
        "for x in range(0,len(reais)):\n",
        "  print(\"{:<4}{:<6}{:<6}\".format(x+1,reais[x],dolar[x]))\n"
      ],
      "metadata": {
        "colab": {
          "base_uri": "https://localhost:8080/"
        },
        "id": "GywjmMX-Ldfv",
        "outputId": "256c49c3-2bb7-4b09-82cc-62633403f738"
      },
      "execution_count": 23,
      "outputs": [
        {
          "output_type": "stream",
          "name": "stdout",
          "text": [
            "Nº  BRL   USD   \n",
            "1   1     0.17  \n",
            "2   2     0.35  \n",
            "3   5     0.86  \n",
            "4   10    1.73  \n",
            "5   20    3.45  \n",
            "6   50    8.63  \n",
            "7   100   17.26 \n",
            "8   200   34.52 \n"
          ]
        }
      ]
    },
    {
      "cell_type": "markdown",
      "source": [
        "# Exercício 2\n",
        "Crie uma lista em reais com os valores: 1, 2, 5, 10, 20, 50, 100 e 200. Faça a conversão de reais para euro atual. Mostre em tela as duas comparações."
      ],
      "metadata": {
        "id": "XXVHqm04RaPK"
      }
    },
    {
      "cell_type": "code",
      "source": [
        "url = \"https://economia.awesomeapi.com.br/json/last/EUR-BRL\"\n",
        "\n",
        "reais = [1,2,5,10,20,50,100,200]\n",
        "cotacao = requests.get(url).content\n",
        "dic = json.loads(cotacao)\n",
        "euro = [round(x/float(dic[\"EURBRL\"][\"bid\"]),2) for x in reais]\n",
        "\n",
        "print(\"{:<4}{:<4}{:<6}\".format(\"Nº\",\"BRL\",\"EUR\"))\n",
        "for x in range(0,len(reais)):\n",
        "  print(\"{:<4}{:<4}{:<6}\".format(x+1,reais[x],euro[x]))"
      ],
      "metadata": {
        "colab": {
          "base_uri": "https://localhost:8080/"
        },
        "id": "f8bCAreMYMB9",
        "outputId": "c48daa3b-19db-4d69-b45e-04ea7b817295"
      },
      "execution_count": 29,
      "outputs": [
        {
          "output_type": "stream",
          "name": "stdout",
          "text": [
            "Nº  BRL EUR   \n",
            "1   1   0.16  \n",
            "2   2   0.33  \n",
            "3   5   0.82  \n",
            "4   10  1.63  \n",
            "5   20  3.26  \n",
            "6   50  8.16  \n",
            "7   100 16.32 \n",
            "8   200 32.65 \n"
          ]
        }
      ]
    },
    {
      "cell_type": "markdown",
      "source": [
        "## Exercício 3\n",
        "Crie uma lista em reais com os valores: 1, 2, 5, 10, 20, 50, 100 e 200. Faça a conversão de reais para euro, dolar e pesos argentinos atual. Mostre em tela as quatro comparações."
      ],
      "metadata": {
        "id": "LstEX58sa0-r"
      }
    },
    {
      "cell_type": "code",
      "source": [
        "url1 = \"https://economia.awesomeapi.com.br/json/last/EUR-BRL\"\n",
        "url2 = \"https://economia.awesomeapi.com.br/json/last/USD-BRL\"\n",
        "url3 = \"https://economia.awesomeapi.com.br/json/last/ARS-BRL\"\n",
        "\n",
        "cot1 = requests.get(url1).content\n",
        "cot2 = requests.get(url2).content\n",
        "cot3 = requests.get(url3).content\n",
        "\n",
        "dic1 = json.loads(cot1)\n",
        "dic2 = json.loads(cot2)\n",
        "dic3 = json.loads(cot3)\n",
        "\n",
        "BRL = [1,2,5,10,20,50,100,200]\n",
        "EUR = [round(x/float(dic1[\"EURBRL\"][\"bid\"]),2) for x in reais]\n",
        "USD = [round(x/float(dic2[\"USDBRL\"][\"bid\"]),2) for x in reais]\n",
        "ARS = [round(x/float(dic3[\"ARSBRL\"][\"bid\"]),2) for x in reais]\n",
        "\n",
        "print(\"{:<6}{:<6}{:<6}{:<6}{:<6}\".format(\"Nº\",\"BRL\",\"EUR\",\"USD\",\"ARS\"))\n",
        "print(\"_________________________________\")\n",
        "for x in range(0,len(reais)):\n",
        "  print(\"{:<6}{:<6}{:<6}{:<6}{:<6}\".format(x,BRL[x],EUR[x],USD[x],ARS[x]))"
      ],
      "metadata": {
        "colab": {
          "base_uri": "https://localhost:8080/"
        },
        "id": "Hkw_6ErPbL-l",
        "outputId": "5b02e8db-3f50-4b24-c565-ca0dc5541fb5"
      },
      "execution_count": 35,
      "outputs": [
        {
          "output_type": "stream",
          "name": "stdout",
          "text": [
            "Nº    BRL   EUR   USD   ARS   \n",
            "_________________________________\n",
            "0     1     0.16  0.17  172.41\n",
            "1     2     0.33  0.34  344.83\n",
            "2     5     0.82  0.86  862.07\n",
            "3     10    1.63  1.72  1724.14\n",
            "4     20    3.26  3.44  3448.28\n",
            "5     50    8.16  8.61  8620.69\n",
            "6     100   16.32 17.22 17241.38\n",
            "7     200   32.64 34.45 34482.76\n"
          ]
        }
      ]
    }
  ]
}