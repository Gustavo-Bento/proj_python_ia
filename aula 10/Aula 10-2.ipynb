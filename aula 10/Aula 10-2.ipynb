{
  "nbformat": 4,
  "nbformat_minor": 0,
  "metadata": {
    "colab": {
      "provenance": []
    },
    "kernelspec": {
      "name": "python3",
      "display_name": "Python 3"
    },
    "language_info": {
      "name": "python"
    }
  },
  "cells": [
    {
      "cell_type": "markdown",
      "source": [
        "Pip é o gerenciador de pacotes do python, responsavel pela instalação das bibliotecas usadas pela linguagem."
      ],
      "metadata": {
        "id": "Mv6czK1q59dk"
      }
    },
    {
      "cell_type": "code",
      "source": [
        "pip install nltk textblob"
      ],
      "metadata": {
        "colab": {
          "base_uri": "https://localhost:8080/"
        },
        "id": "8Re1SPiz4wIk",
        "outputId": "fc3e8182-7196-4784-ad6a-0ec173505aa8"
      },
      "execution_count": null,
      "outputs": [
        {
          "output_type": "stream",
          "name": "stdout",
          "text": [
            "Requirement already satisfied: nltk in /usr/local/lib/python3.10/dist-packages (3.8.1)\n",
            "Requirement already satisfied: textblob in /usr/local/lib/python3.10/dist-packages (0.17.1)\n",
            "Requirement already satisfied: click in /usr/local/lib/python3.10/dist-packages (from nltk) (8.1.7)\n",
            "Requirement already satisfied: joblib in /usr/local/lib/python3.10/dist-packages (from nltk) (1.4.2)\n",
            "Requirement already satisfied: regex>=2021.8.3 in /usr/local/lib/python3.10/dist-packages (from nltk) (2024.9.11)\n",
            "Requirement already satisfied: tqdm in /usr/local/lib/python3.10/dist-packages (from nltk) (4.66.5)\n"
          ]
        }
      ]
    },
    {
      "cell_type": "code",
      "source": [
        "import nltk\n",
        "from nltk.corpus import stopwords\n",
        "from nltk.tokenize import word_tokenize\n",
        "from textblob import TextBlob\n"
      ],
      "metadata": {
        "id": "_TXFL-s36gEW"
      },
      "execution_count": null,
      "outputs": []
    },
    {
      "cell_type": "markdown",
      "source": [
        "Baixar os componentes NLTK necessários"
      ],
      "metadata": {
        "id": "Wmr9EjC393bH"
      }
    },
    {
      "cell_type": "code",
      "source": [
        "nltk.download('punkt')\n",
        "nltk.download('stopwords')"
      ],
      "metadata": {
        "colab": {
          "base_uri": "https://localhost:8080/"
        },
        "id": "qMuXiOG89_Fg",
        "outputId": "8f65bf41-b955-470a-e0ee-0077a8f43120"
      },
      "execution_count": null,
      "outputs": [
        {
          "output_type": "stream",
          "name": "stderr",
          "text": [
            "[nltk_data] Downloading package punkt to /root/nltk_data...\n",
            "[nltk_data]   Unzipping tokenizers/punkt.zip.\n",
            "[nltk_data] Downloading package stopwords to /root/nltk_data...\n",
            "[nltk_data]   Unzipping corpora/stopwords.zip.\n"
          ]
        },
        {
          "output_type": "execute_result",
          "data": {
            "text/plain": [
              "True"
            ]
          },
          "metadata": {},
          "execution_count": 33
        }
      ]
    },
    {
      "cell_type": "markdown",
      "source": [
        "Função de pré processamento de texto"
      ],
      "metadata": {
        "id": "RknpXY2l_z_q"
      }
    },
    {
      "cell_type": "code",
      "source": [
        "def preprocesso(texto):\n",
        "  #Tokenização\n",
        "  tokens = word_tokenize(texto.lower())\n",
        "\n",
        "  #Remover os espaços das frases\n",
        "  espacos = set(stopwords.words('english'))\n",
        "\n",
        "  #Filtrando os tokens\n",
        "  tokens_filtrados = [palavra for palavra in tokens if palavra.isalnum()\n",
        "    and palavra not in espacos]\n",
        "\n",
        "  #Retorno da função\n",
        "  return ' '.join(tokens_filtrados)"
      ],
      "metadata": {
        "id": "KMyMyMTi_4pX"
      },
      "execution_count": null,
      "outputs": []
    },
    {
      "cell_type": "markdown",
      "source": [
        "Função para analise de sentimentos"
      ],
      "metadata": {
        "id": "N9IXUcfJG4vK"
      }
    },
    {
      "cell_type": "code",
      "source": [
        "def sentimentos(texto):\n",
        "\n",
        "  #Limpando o texto digitado\n",
        "  texto_limpo = preprocesso(texto)\n",
        "\n",
        "  #Analise de sentimento do texto\n",
        "  blob = TextBlob(texto_limpo)\n",
        "\n",
        "  #Aplicando a polaridade do sentimento\n",
        "  sentimento = blob.sentiment.polarity\n",
        "\n",
        "  #Retornando a pontuação\n",
        "  return sentimento\n"
      ],
      "metadata": {
        "id": "ww0G32k-HwPU"
      },
      "execution_count": null,
      "outputs": []
    },
    {
      "cell_type": "markdown",
      "source": [
        "Lista de frases com sentimentos"
      ],
      "metadata": {
        "id": "540HlhwyKV1f"
      }
    },
    {
      "cell_type": "code",
      "source": [
        "frases = [\"I loved this app. The latest version has improved a lot!\",\n",
        "          \"This app crashed my phone. I hated it!\",\n",
        "          \"This app is crap, I won't download it anymore!\",\n",
        "          \"I don't know how to log out\",\n",
        "          \"The last version was much better. But it still meets my expectations.\",\n",
        "          \"I'm very happy with this app\",\n",
        "          \"It took a long time to update.\",\n",
        "          \"I really like this app. I always share it.\",\n",
        "          \"I have many doubts about this application. Very confusing\",\n",
        "          \"I'm new here, how do I update my photo?\",\n",
        "          \"The app is awful, i don't like this.\"]"
      ],
      "metadata": {
        "id": "cM2IjUGaKY8D"
      },
      "execution_count": null,
      "outputs": []
    },
    {
      "cell_type": "markdown",
      "source": [
        "Exibindo a frase e sua pontuação"
      ],
      "metadata": {
        "id": "OsVtxQXDNWXJ"
      }
    },
    {
      "cell_type": "code",
      "source": [
        "pontos = []\n",
        "for comentario in frases:\n",
        "  nivel = sentimentos(comentario)\n",
        "  print(f\"Comentario: {comentario}\\nPontuação: {round(nivel,2)}\\n\")\n",
        "  pontos.append(round(nivel,2))"
      ],
      "metadata": {
        "colab": {
          "base_uri": "https://localhost:8080/"
        },
        "id": "v_h4J7dyNbfV",
        "outputId": "467dbace-ac73-4fbe-fe10-78f0bd05e7a8"
      },
      "execution_count": null,
      "outputs": [
        {
          "output_type": "stream",
          "name": "stdout",
          "text": [
            "Comentario: I loved this app. The latest version has improved a lot!\n",
            "Pontuação: 0.6\n",
            "\n",
            "Comentario: This app crashed my phone. I hated it!\n",
            "Pontuação: -0.9\n",
            "\n",
            "Comentario: This app is crap, I won't download it anymore!\n",
            "Pontuação: -0.8\n",
            "\n",
            "Comentario: I don't know how to log out\n",
            "Pontuação: 0.0\n",
            "\n",
            "Comentario: The last version was much better. But it still meets my expectations.\n",
            "Pontuação: 0.25\n",
            "\n",
            "Comentario: I'm very happy with this app\n",
            "Pontuação: 0.8\n",
            "\n",
            "Comentario: It took a long time to update.\n",
            "Pontuação: -0.05\n",
            "\n",
            "Comentario: I really like this app. I always share it.\n",
            "Pontuação: 0.2\n",
            "\n",
            "Comentario: I have many doubts about this application. Very confusing\n",
            "Pontuação: 0.1\n",
            "\n",
            "Comentario: I'm new here, how do I update my photo?\n",
            "Pontuação: 0.14\n",
            "\n",
            "Comentario: The app is awful, i don't like this.\n",
            "Pontuação: -1.0\n",
            "\n"
          ]
        }
      ]
    },
    {
      "cell_type": "code",
      "source": [
        "import matplotlib.pyplot as plt\n",
        "import numpy as np\n",
        "\n",
        "x = np.array(pontos)\n",
        "y = np.array(pontos)\n",
        "\n",
        "plt.plot(x,y,'o')\n",
        "plt.show()"
      ],
      "metadata": {
        "colab": {
          "base_uri": "https://localhost:8080/",
          "height": 430
        },
        "id": "lk2uwZhmWeEU",
        "outputId": "6ff8cc07-abd1-486e-9579-0ee7d57bd733"
      },
      "execution_count": null,
      "outputs": [
        {
          "output_type": "display_data",
          "data": {
            "text/plain": [
              "<Figure size 640x480 with 1 Axes>"
            ],
            "image/png": "[encoded data removed]"
          },
          "metadata": {}
        }
      ]
    },
    {
      "cell_type": "markdown",
      "source": [
        "## Funções Lambda e Funções Anonimas"
      ],
      "metadata": {
        "id": "w7RWQjBa8gzX"
      }
    },
    {
      "cell_type": "code",
      "source": [
        "media = lambda a, b : (a+b)/2\n",
        "media(4,2)"
      ],
      "metadata": {
        "colab": {
          "base_uri": "https://localhost:8080/"
        },
        "id": "42yJaNosyYq8",
        "outputId": "43942e19-fed8-437e-ff61-0b53f2dace5a"
      },
      "execution_count": null,
      "outputs": [
        {
          "output_type": "execute_result",
          "data": {
            "text/plain": [
              "3.0"
            ]
          },
          "metadata": {},
          "execution_count": 1
        }
      ]
    },
    {
      "cell_type": "code",
      "source": [
        "import math\n",
        "raiz = lambda x: math.sqrt(x)\n",
        "raiz(16)\n"
      ],
      "metadata": {
        "colab": {
          "base_uri": "https://localhost:8080/"
        },
        "id": "TmAw_GpPy_Mm",
        "outputId": "7fb20ab1-8197-4de8-aebd-038440dc122f"
      },
      "execution_count": null,
      "outputs": [
        {
          "output_type": "execute_result",
          "data": {
            "text/plain": [
              "4.0"
            ]
          },
          "metadata": {},
          "execution_count": 3
        }
      ]
    },
    {
      "cell_type": "markdown",
      "source": [
        "## List Comprehension"
      ],
      "metadata": {
        "id": "6CDPGihy9fMb"
      }
    },
    {
      "cell_type": "code",
      "source": [
        "quadrado = [x**2 for x in range(10)]\n",
        "print(quadrado)"
      ],
      "metadata": {
        "colab": {
          "base_uri": "https://localhost:8080/"
        },
        "id": "dYTKN2YRzzHF",
        "outputId": "fb14f3b4-3156-49be-bb2f-033393e334e0"
      },
      "execution_count": null,
      "outputs": [
        {
          "output_type": "stream",
          "name": "stdout",
          "text": [
            "[0, 1, 4, 9, 16, 25, 36, 49, 64, 81]\n"
          ]
        }
      ]
    },
    {
      "cell_type": "markdown",
      "source": [
        "## Funções Map"
      ],
      "metadata": {
        "id": "LSkGwb61-0NF"
      }
    },
    {
      "cell_type": "code",
      "source": [
        "import math\n",
        "raiz = list(map(lambda x: math.sqrt(x),quadrado))\n",
        "print(raiz)"
      ],
      "metadata": {
        "colab": {
          "base_uri": "https://localhost:8080/"
        },
        "id": "6R3GeRX31W3B",
        "outputId": "629e6ea5-ff72-4d04-a1df-b3e0398ef68b"
      },
      "execution_count": null,
      "outputs": [
        {
          "output_type": "stream",
          "name": "stdout",
          "text": [
            "[0.0, 1.0, 2.0, 3.0, 4.0, 5.0, 6.0, 7.0, 8.0, 9.0]\n"
          ]
        }
      ]
    },
    {
      "cell_type": "markdown",
      "source": [
        "## Listas"
      ],
      "metadata": {
        "id": "W3tFVXmS_wei"
      }
    },
    {
      "cell_type": "code",
      "source": [
        "lista = [1,2,3]\n",
        "tupla = (1,2,3)\n",
        "dicionario = {1:'um',2:'dois',3:'tres'}\n",
        "# type(lista)\n",
        "# type(tupla)\n",
        "# type(dicionario)\n",
        "# tupla[1]\n",
        "dicionario.get(3)"
      ],
      "metadata": {
        "colab": {
          "base_uri": "https://localhost:8080/",
          "height": 35
        },
        "id": "Za_h1WEh_51G",
        "outputId": "04d8e70b-f6ef-4bae-f768-37cf2f388199"
      },
      "execution_count": null,
      "outputs": [
        {
          "output_type": "execute_result",
          "data": {
            "text/plain": [
              "'tres'"
            ],
            "application/vnd.google.colaboratory.intrinsic+json": {
              "type": "string"
            }
          },
          "metadata": {},
          "execution_count": 16
        }
      ]
    },
    {
      "cell_type": "markdown",
      "source": [
        "## Formatação de String"
      ],
      "metadata": {
        "id": "Kz_wJH2fDMOv"
      }
    },
    {
      "cell_type": "code",
      "source": [
        "nome = 'Gustavo'\n",
        "idade = 16\n",
        "print(f'{nome} tem {idade} anos')"
      ],
      "metadata": {
        "colab": {
          "base_uri": "https://localhost:8080/"
        },
        "id": "k15W9-A9DLzT",
        "outputId": "6900f7e0-e0a4-489e-dd2d-22eec74b91e0"
      },
      "execution_count": null,
      "outputs": [
        {
          "output_type": "stream",
          "name": "stdout",
          "text": [
            "Gustavo tem 16 anos\n"
          ]
        }
      ]
    },
    {
      "cell_type": "code",
      "source": [
        "altura = 1.99\n",
        "peso = 50\n",
        "print(f'Tem {altura} metros e pesa {peso}kg')"
      ],
      "metadata": {
        "colab": {
          "base_uri": "https://localhost:8080/"
        },
        "id": "NBMhUvZCFGJE",
        "outputId": "a6b3d2f3-0d59-4e05-d118-44e93326e577"
      },
      "execution_count": null,
      "outputs": [
        {
          "output_type": "stream",
          "name": "stdout",
          "text": [
            "Tem 1.99 metros e pesa 50kg\n"
          ]
        }
      ]
    },
    {
      "cell_type": "markdown",
      "source": [
        "## Laço para"
      ],
      "metadata": {
        "id": "WFo-PW6uHtWS"
      }
    },
    {
      "cell_type": "code",
      "source": [
        "for i in range(3):\n",
        "  print(i)"
      ],
      "metadata": {
        "colab": {
          "base_uri": "https://localhost:8080/"
        },
        "id": "re4I3RuQH4Xa",
        "outputId": "463597e1-72ea-4b98-c3d1-7f3eb9bc711a"
      },
      "execution_count": null,
      "outputs": [
        {
          "output_type": "stream",
          "name": "stdout",
          "text": [
            "0\n",
            "1\n",
            "2\n"
          ]
        }
      ]
    },
    {
      "cell_type": "markdown",
      "source": [
        "## Laço enquanto"
      ],
      "metadata": {
        "id": "vN5EmnsGIn26"
      }
    },
    {
      "cell_type": "code",
      "source": [
        "x = 0\n",
        "while (x<5):\n",
        "  print(x)\n",
        "  x += 1"
      ],
      "metadata": {
        "colab": {
          "base_uri": "https://localhost:8080/"
        },
        "id": "Jxx_y8mhH_Wl",
        "outputId": "7ac2f131-ced9-4c39-de0b-a4de268ea873"
      },
      "execution_count": null,
      "outputs": [
        {
          "output_type": "stream",
          "name": "stdout",
          "text": [
            "0\n",
            "1\n",
            "2\n",
            "3\n",
            "4\n"
          ]
        }
      ]
    },
    {
      "cell_type": "markdown",
      "source": [
        "## Estrutura se"
      ],
      "metadata": {
        "id": "D2Jbex6EJuzx"
      }
    },
    {
      "cell_type": "code",
      "source": [
        "if (x==5): print(x)"
      ],
      "metadata": {
        "colab": {
          "base_uri": "https://localhost:8080/"
        },
        "id": "VFCzdMS3I0qi",
        "outputId": "68e92ff5-4a75-4e58-f6d5-ef570ffdea9a"
      },
      "execution_count": null,
      "outputs": [
        {
          "output_type": "stream",
          "name": "stdout",
          "text": [
            "5\n"
          ]
        }
      ]
    },
    {
      "cell_type": "code",
      "source": [],
      "metadata": {
        "id": "Xm1_TJ4HKcQc"
      },
      "execution_count": null,
      "outputs": []
    }
  ]
}